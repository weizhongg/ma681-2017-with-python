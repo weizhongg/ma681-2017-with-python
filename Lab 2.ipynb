{
 "cells": [
  {
   "cell_type": "markdown",
   "metadata": {},
   "source": [
    "# Lab 2: Practicing with Probabilities and Expectations\n",
    "Pandas edition (Partial)"
   ]
  },
  {
   "cell_type": "code",
   "execution_count": 58,
   "metadata": {},
   "outputs": [],
   "source": [
    "import numpy as np\n",
    "import pandas as pd\n",
    "\n",
    "url=\"http://math.bu.edu/people/sussman/MA681_FA17/data/hurricane_data.csv\"\n",
    "c=pd.read_csv(url)"
   ]
  },
  {
   "cell_type": "markdown",
   "metadata": {},
   "source": [
    "1. Load the data and print a preview of it."
   ]
  },
  {
   "cell_type": "code",
   "execution_count": 8,
   "metadata": {},
   "outputs": [
    {
     "data": {
      "text/plain": [
       "id               object\n",
       "name             object\n",
       "date             object\n",
       "time              int64\n",
       "event            object\n",
       "status           object\n",
       "latitude        float64\n",
       "longitude       float64\n",
       "max_wind          int64\n",
       "min_pressure    float64\n",
       "year              int64\n",
       "month             int64\n",
       "day               int64\n",
       "dtype: object"
      ]
     },
     "execution_count": 8,
     "metadata": {},
     "output_type": "execute_result"
    }
   ],
   "source": [
    "c.dtypes"
   ]
  },
  {
   "cell_type": "code",
   "execution_count": 6,
   "metadata": {
    "scrolled": true
   },
   "outputs": [
    {
     "data": {
      "text/html": [
       "<div>\n",
       "<table border=\"1\" class=\"dataframe\">\n",
       "  <thead>\n",
       "    <tr style=\"text-align: right;\">\n",
       "      <th></th>\n",
       "      <th>id</th>\n",
       "      <th>name</th>\n",
       "      <th>date</th>\n",
       "      <th>time</th>\n",
       "      <th>event</th>\n",
       "      <th>status</th>\n",
       "      <th>latitude</th>\n",
       "      <th>longitude</th>\n",
       "      <th>max_wind</th>\n",
       "      <th>min_pressure</th>\n",
       "      <th>year</th>\n",
       "      <th>month</th>\n",
       "      <th>day</th>\n",
       "    </tr>\n",
       "  </thead>\n",
       "  <tbody>\n",
       "    <tr>\n",
       "      <th>0</th>\n",
       "      <td>AL011851</td>\n",
       "      <td>UNNAMED</td>\n",
       "      <td>1851-06-25</td>\n",
       "      <td>0</td>\n",
       "      <td>NaN</td>\n",
       "      <td>HU</td>\n",
       "      <td>28.0</td>\n",
       "      <td>-94.8</td>\n",
       "      <td>80</td>\n",
       "      <td>NaN</td>\n",
       "      <td>1851</td>\n",
       "      <td>6</td>\n",
       "      <td>25</td>\n",
       "    </tr>\n",
       "    <tr>\n",
       "      <th>1</th>\n",
       "      <td>AL011851</td>\n",
       "      <td>UNNAMED</td>\n",
       "      <td>1851-06-25</td>\n",
       "      <td>600</td>\n",
       "      <td>NaN</td>\n",
       "      <td>HU</td>\n",
       "      <td>28.0</td>\n",
       "      <td>-95.4</td>\n",
       "      <td>80</td>\n",
       "      <td>NaN</td>\n",
       "      <td>1851</td>\n",
       "      <td>6</td>\n",
       "      <td>25</td>\n",
       "    </tr>\n",
       "    <tr>\n",
       "      <th>2</th>\n",
       "      <td>AL011851</td>\n",
       "      <td>UNNAMED</td>\n",
       "      <td>1851-06-25</td>\n",
       "      <td>1200</td>\n",
       "      <td>NaN</td>\n",
       "      <td>HU</td>\n",
       "      <td>28.0</td>\n",
       "      <td>-96.0</td>\n",
       "      <td>80</td>\n",
       "      <td>NaN</td>\n",
       "      <td>1851</td>\n",
       "      <td>6</td>\n",
       "      <td>25</td>\n",
       "    </tr>\n",
       "    <tr>\n",
       "      <th>3</th>\n",
       "      <td>AL011851</td>\n",
       "      <td>UNNAMED</td>\n",
       "      <td>1851-06-25</td>\n",
       "      <td>1800</td>\n",
       "      <td>NaN</td>\n",
       "      <td>HU</td>\n",
       "      <td>28.1</td>\n",
       "      <td>-96.5</td>\n",
       "      <td>80</td>\n",
       "      <td>NaN</td>\n",
       "      <td>1851</td>\n",
       "      <td>6</td>\n",
       "      <td>25</td>\n",
       "    </tr>\n",
       "    <tr>\n",
       "      <th>4</th>\n",
       "      <td>AL011851</td>\n",
       "      <td>UNNAMED</td>\n",
       "      <td>1851-06-25</td>\n",
       "      <td>2100</td>\n",
       "      <td>L</td>\n",
       "      <td>HU</td>\n",
       "      <td>28.2</td>\n",
       "      <td>-96.8</td>\n",
       "      <td>80</td>\n",
       "      <td>NaN</td>\n",
       "      <td>1851</td>\n",
       "      <td>6</td>\n",
       "      <td>25</td>\n",
       "    </tr>\n",
       "    <tr>\n",
       "      <th>5</th>\n",
       "      <td>AL011851</td>\n",
       "      <td>UNNAMED</td>\n",
       "      <td>1851-06-26</td>\n",
       "      <td>0</td>\n",
       "      <td>NaN</td>\n",
       "      <td>HU</td>\n",
       "      <td>28.2</td>\n",
       "      <td>-97.0</td>\n",
       "      <td>70</td>\n",
       "      <td>NaN</td>\n",
       "      <td>1851</td>\n",
       "      <td>6</td>\n",
       "      <td>26</td>\n",
       "    </tr>\n",
       "    <tr>\n",
       "      <th>6</th>\n",
       "      <td>AL011851</td>\n",
       "      <td>UNNAMED</td>\n",
       "      <td>1851-06-26</td>\n",
       "      <td>600</td>\n",
       "      <td>NaN</td>\n",
       "      <td>TS</td>\n",
       "      <td>28.3</td>\n",
       "      <td>-97.6</td>\n",
       "      <td>60</td>\n",
       "      <td>NaN</td>\n",
       "      <td>1851</td>\n",
       "      <td>6</td>\n",
       "      <td>26</td>\n",
       "    </tr>\n",
       "    <tr>\n",
       "      <th>7</th>\n",
       "      <td>AL011851</td>\n",
       "      <td>UNNAMED</td>\n",
       "      <td>1851-06-26</td>\n",
       "      <td>1200</td>\n",
       "      <td>NaN</td>\n",
       "      <td>TS</td>\n",
       "      <td>28.4</td>\n",
       "      <td>-98.3</td>\n",
       "      <td>60</td>\n",
       "      <td>NaN</td>\n",
       "      <td>1851</td>\n",
       "      <td>6</td>\n",
       "      <td>26</td>\n",
       "    </tr>\n",
       "    <tr>\n",
       "      <th>8</th>\n",
       "      <td>AL011851</td>\n",
       "      <td>UNNAMED</td>\n",
       "      <td>1851-06-26</td>\n",
       "      <td>1800</td>\n",
       "      <td>NaN</td>\n",
       "      <td>TS</td>\n",
       "      <td>28.6</td>\n",
       "      <td>-98.9</td>\n",
       "      <td>50</td>\n",
       "      <td>NaN</td>\n",
       "      <td>1851</td>\n",
       "      <td>6</td>\n",
       "      <td>26</td>\n",
       "    </tr>\n",
       "    <tr>\n",
       "      <th>9</th>\n",
       "      <td>AL011851</td>\n",
       "      <td>UNNAMED</td>\n",
       "      <td>1851-06-27</td>\n",
       "      <td>0</td>\n",
       "      <td>NaN</td>\n",
       "      <td>TS</td>\n",
       "      <td>29.0</td>\n",
       "      <td>-99.4</td>\n",
       "      <td>50</td>\n",
       "      <td>NaN</td>\n",
       "      <td>1851</td>\n",
       "      <td>6</td>\n",
       "      <td>27</td>\n",
       "    </tr>\n",
       "  </tbody>\n",
       "</table>\n",
       "</div>"
      ],
      "text/plain": [
       "         id     name        date  time event status  latitude  longitude  \\\n",
       "0  AL011851  UNNAMED  1851-06-25     0   NaN     HU      28.0      -94.8   \n",
       "1  AL011851  UNNAMED  1851-06-25   600   NaN     HU      28.0      -95.4   \n",
       "2  AL011851  UNNAMED  1851-06-25  1200   NaN     HU      28.0      -96.0   \n",
       "3  AL011851  UNNAMED  1851-06-25  1800   NaN     HU      28.1      -96.5   \n",
       "4  AL011851  UNNAMED  1851-06-25  2100     L     HU      28.2      -96.8   \n",
       "5  AL011851  UNNAMED  1851-06-26     0   NaN     HU      28.2      -97.0   \n",
       "6  AL011851  UNNAMED  1851-06-26   600   NaN     TS      28.3      -97.6   \n",
       "7  AL011851  UNNAMED  1851-06-26  1200   NaN     TS      28.4      -98.3   \n",
       "8  AL011851  UNNAMED  1851-06-26  1800   NaN     TS      28.6      -98.9   \n",
       "9  AL011851  UNNAMED  1851-06-27     0   NaN     TS      29.0      -99.4   \n",
       "\n",
       "   max_wind  min_pressure  year  month  day  \n",
       "0        80           NaN  1851      6   25  \n",
       "1        80           NaN  1851      6   25  \n",
       "2        80           NaN  1851      6   25  \n",
       "3        80           NaN  1851      6   25  \n",
       "4        80           NaN  1851      6   25  \n",
       "5        70           NaN  1851      6   26  \n",
       "6        60           NaN  1851      6   26  \n",
       "7        60           NaN  1851      6   26  \n",
       "8        50           NaN  1851      6   26  \n",
       "9        50           NaN  1851      6   27  "
      ]
     },
     "execution_count": 6,
     "metadata": {},
     "output_type": "execute_result"
    }
   ],
   "source": [
    "c.head(10)"
   ]
  },
  {
   "cell_type": "markdown",
   "metadata": {},
   "source": [
    "<ol start=2><li>Compute the probability that a recorded disturbance will reach the Hurricane status. </li></ol>"
   ]
  },
  {
   "cell_type": "code",
   "execution_count": 27,
   "metadata": {},
   "outputs": [
    {
     "data": {
      "text/plain": [
       "0.50282485875706218"
      ]
     },
     "execution_count": 27,
     "metadata": {},
     "output_type": "execute_result"
    }
   ],
   "source": [
    "# The inline function\n",
    "#     lambda x: \"HU\" in list(x)\n",
    "# returns true if list(x), aka the list status fields associated with an id, contains \"HU\"\n",
    "\n",
    "# agg operates on the status column of a df grouped by ID\n",
    "\n",
    "count_storms_reaching_HU_status = sum(c.groupby('id').status.agg(lambda x: \"HU\" in list(x)))\n",
    "total_count_storms = c.id.nunique()\n",
    "count_storms_reaching_HU_status / total_count_storms"
   ]
  },
  {
   "cell_type": "markdown",
   "metadata": {},
   "source": [
    "<ol start=3><li> For each status, “HU”, “TS”, and “TD”, compute the probability that probability the recorded minimum pressure is less than 990 millibars given that the storm is currently at that status. </li></ol>"
   ]
  },
  {
   "cell_type": "code",
   "execution_count": 53,
   "metadata": {},
   "outputs": [
    {
     "data": {
      "text/plain": [
       "status\n",
       "HU    0.892214\n",
       "TD    0.001808\n",
       "TS    0.082317\n",
       "Name: min_pressure, dtype: float64"
      ]
     },
     "execution_count": 53,
     "metadata": {},
     "output_type": "execute_result"
    }
   ],
   "source": [
    "c_grouped = c[c[\"min_pressure\"].notnull()].groupby('status').min_pressure\n",
    "c_grouped.agg(lambda x: sum(x<990)/len(x))"
   ]
  },
  {
   "cell_type": "markdown",
   "metadata": {
    "collapsed": true
   },
   "source": [
    "4(a) Compute the average maximum wind speed over all recordings. "
   ]
  },
  {
   "cell_type": "code",
   "execution_count": 49,
   "metadata": {
    "scrolled": true
   },
   "outputs": [
    {
     "data": {
      "text/plain": [
       "55.052799923616746"
      ]
     },
     "execution_count": 49,
     "metadata": {},
     "output_type": "execute_result"
    }
   ],
   "source": [
    "c.max_wind.mean()"
   ]
  },
  {
   "cell_type": "markdown",
   "metadata": {},
   "source": [
    "4(b) Compute the average maximum maximum wind speed over all storms. "
   ]
  },
  {
   "cell_type": "code",
   "execution_count": 66,
   "metadata": {},
   "outputs": [
    {
     "data": {
      "text/plain": [
       "67.81638418079096"
      ]
     },
     "execution_count": 66,
     "metadata": {},
     "output_type": "execute_result"
    }
   ],
   "source": [
    "c.groupby('id').max_wind.max().mean()"
   ]
  },
  {
   "cell_type": "markdown",
   "metadata": {
    "collapsed": true
   },
   "source": [
    "4(c) Compute the expected maximum wind speed, over recordings, given that the position of the storm is west of 75W. "
   ]
  },
  {
   "cell_type": "code",
   "execution_count": 57,
   "metadata": {},
   "outputs": [
    {
     "data": {
      "text/plain": [
       "52.310708086430836"
      ]
     },
     "execution_count": 57,
     "metadata": {},
     "output_type": "execute_result"
    }
   ],
   "source": [
    "c[c.longitude < -75].max_wind.mean()"
   ]
  },
  {
   "cell_type": "markdown",
   "metadata": {},
   "source": [
    "4(d) Compute the variance of the maximum maximum wind speeds over all storms."
   ]
  },
  {
   "cell_type": "code",
   "execution_count": 67,
   "metadata": {},
   "outputs": [
    {
     "data": {
      "text/plain": [
       "29.351723002601698"
      ]
     },
     "execution_count": 67,
     "metadata": {},
     "output_type": "execute_result"
    }
   ],
   "source": [
    "c.groupby('id').max_wind.max().std()"
   ]
  },
  {
   "cell_type": "markdown",
   "metadata": {},
   "source": [
    "<ol start=5><li>Compute the correlation matrix for the latitude, longitude, maximum wind speed, and minimum pressure. Note that to ignore the NA values you might need to set the use parameter for the cor function.</li></ol>"
   ]
  },
  {
   "cell_type": "code",
   "execution_count": 86,
   "metadata": {},
   "outputs": [
    {
     "name": "stdout",
     "output_type": "stream",
     "text": [
      "              latitude  longitude  max_wind  min_pressure\n",
      "latitude      1.000000  -0.122307  0.099217     -0.130718\n",
      "longitude    -0.122307   1.000000 -0.047540      0.099091\n",
      "max_wind      0.099217  -0.047540  1.000000     -0.938205\n",
      "min_pressure -0.130718   0.099091 -0.938205      1.000000\n"
     ]
    },
    {
     "data": {
      "image/png": "[encoded data removed]",
      "text/plain": [
       "<matplotlib.figure.Figure at 0x2815c40f4e0>"
      ]
     },
     "metadata": {},
     "output_type": "display_data"
    }
   ],
   "source": [
    "# c.isnull().sum() shows that only min_pressure is possibly null\n",
    "\n",
    "c_reduced = c[['latitude','longitude','max_wind','min_pressure']][c.min_pressure.notnull()].corr()\n",
    "print(corr)\n",
    "\n",
    "import matplotlib.pyplot as plt\n",
    "import seaborn as sns # just a conventional alias, don't know why\n",
    "sns.heatmap(c_reduced)\n",
    "plt.show()"
   ]
  },
  {
   "cell_type": "markdown",
   "metadata": {},
   "source": [
    "We can see that max wind speed is highly correlated with min pressure."
   ]
  }
 ],
 "metadata": {
  "kernelspec": {
   "display_name": "Python 3",
   "language": "python",
   "name": "python3"
  },
  "language_info": {
   "codemirror_mode": {
    "name": "ipython",
    "version": 3
   },
   "file_extension": ".py",
   "mimetype": "text/x-python",
   "name": "python",
   "nbconvert_exporter": "python",
   "pygments_lexer": "ipython3",
   "version": "3.6.0"
  }
 },
 "nbformat": 4,
 "nbformat_minor": 2
}
